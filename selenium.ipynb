{
 "cells": [
  {
   "cell_type": "code",
   "execution_count": 173,
   "metadata": {},
   "outputs": [],
   "source": [
    "from selenium import webdriver\n",
    "from bs4 import BeautifulSoup\n",
    "import time\n",
    "import re\n",
    "target_url=\"https://www.semanticscholar.org/paper/Content-Based-Citation-Recommendation-Bhagavatula-Feldman/e9baba6cd76ea7f347462056cde699d6e6af0abd?\"\n",
    "\n",
    "driver = webdriver.Chrome()\n",
    "driver.get(\"https://www.semanticscholar.org/paper/Content-Based-Citation-Recommendation-Bhagavatula-Feldman/e9baba6cd76ea7f347462056cde699d6e6af0abd\")\n",
    "driver.find_element_by_link_text(\"CONTINUE READING\").click()\n",
    "driver.find_element_by_xpath(\"(.//*[normalize-space(text()) and normalize-space(.)='Sergey Feldman'])[1]/following::span[3]\").click()\n",
    "# 打開Cite、點APA\n",
    "driver.find_element_by_xpath(\"(.//*[normalize-space(text()) and normalize-space(.)='Create Alert'])[1]/following::span[2]\").click()\n",
    "driver.find_element_by_xpath(\"(.//*[normalize-space(text()) and normalize-space(.)='MLA'])[1]/following::button[1]\").click()\n",
    "soup = BeautifulSoup(driver.page_source)"
   ]
  },
  {
   "cell_type": "code",
   "execution_count": 174,
   "metadata": {},
   "outputs": [
    {
     "name": "stdout",
     "output_type": "stream",
     "text": [
      "Content-Based Citation Recommendation\n"
     ]
    }
   ],
   "source": [
    "post_title = soup.find(\"div\", id=\"paper-header\")      \n",
    "post_title = post_title.find(\"h1\")\n",
    "print(post_title.text)"
   ]
  },
  {
   "cell_type": "code",
   "execution_count": 175,
   "metadata": {},
   "outputs": [
    {
     "name": "stdout",
     "output_type": "stream",
     "text": [
      "Chandra Bhagavatula\n",
      "Sergey Feldman\n",
      "Russell Power\n",
      "Waleed Ammar\n"
     ]
    }
   ],
   "source": [
    "#post_author = soup.find(\"meta\", {\"name\":\"citation_author\"})['content']\n",
    "metas_author = soup.find_all(\"meta\", {\"name\":\"citation_author\"})\n",
    "for meta in metas_author:\n",
    "    post_author = meta.attrs['content']\n",
    "    print(post_author)"
   ]
  },
  {
   "cell_type": "code",
   "execution_count": 176,
   "metadata": {},
   "outputs": [
    {
     "name": "stdout",
     "output_type": "stream",
     "text": [
      "Bhagavatula, C., Feldman, S., Power, R., & Ammar, W. (2018). Content-Based Citation Recommendation. NAACL-HLT.\n"
     ]
    }
   ],
   "source": [
    "post_APA = soup.find('cite',class_=\"formatted-citation formatted-citation--style-apa\")\n",
    "print(post_APA.text)"
   ]
  },
  {
   "cell_type": "code",
   "execution_count": 177,
   "metadata": {},
   "outputs": [
    {
     "name": "stdout",
     "output_type": "stream",
     "text": [
      "We present a content-based method for recommending citations in an academic paper draft. We embed a given query document into a vector space, then use its nearest neighbors as candidates, and rerank the candidates using a discriminative model trained to distinguish between observed and unobserved citations. Unlike previous work, our method does not require metadata such as author names which can be missing, e.g., during the peer review process. Without using metadata, our method outperforms the best reported results on PubMed and DBLP datasets with relative improvements of over 18% in F1@20 and over 22% in MRR. We show empirically that, although adding metadata improves the performance on standard metrics, it favors selfcitations which are less useful in a citation recommendation setup. We release an online portal for citation recommendation based on our method,1 and a new dataset OpenCorpus of 7 million research articles to facilitate future research on this task. \n"
     ]
    }
   ],
   "source": [
    "post_abstract = soup.find('div', class_='text-truncator abstract__text text--preline')\n",
    "# 把摘要的LESS移除掉\n",
    "unwanted = post_abstract.find('a')\n",
    "unwanted.extract()\n",
    "print(post_abstract.text)"
   ]
  },
  {
   "cell_type": "code",
   "execution_count": 178,
   "metadata": {},
   "outputs": [
    {
     "name": "stdout",
     "output_type": "stream",
     "text": [
      "3 Citations\n",
      "27 References\n"
     ]
    }
   ],
   "source": [
    "num_citation = soup.find(attrs={\"data-nav-id\": \"citing-papers\"})\n",
    "num_references = soup.find(attrs={\"data-nav-id\": \"references\"})\n",
    "print(num_citation.text)\n",
    "print(num_references.text)\n",
    "\n",
    "citation_number=re.sub(\"[^0-9]\", \"\", num_citation.text)\n",
    "references_number=re.sub(\"[^0-9]\", \"\", num_references.text)"
   ]
  },
  {
   "cell_type": "code",
   "execution_count": 179,
   "metadata": {},
   "outputs": [
    {
     "name": "stdout",
     "output_type": "stream",
     "text": [
      "A Dataset of Peer Reviews (PeerRead): Collection, Insights and NLP Applications\n",
      "https://www.semanticscholar.org/paper/A-Dataset-of-Peer-Reviews-(PeerRead)%3A-Collection%2C-Kang-Ammar/c26d67172392c89b90538cad499745a5bf26b21d\n",
      "1\n",
      "Construction of the Literature Graph in Semantic Scholar\n",
      "https://www.semanticscholar.org/paper/Construction-of-the-Literature-Graph-in-Semantic-Ammar-Groeneveld/649def34f8be52c8b66281af98ae884c09aef38b\n",
      "2\n",
      "SOLVENT: A Mixed Initiative System for Finding Analogies between Research Papers\n",
      "https://www.semanticscholar.org/paper/SOLVENT%3A-A-Mixed-Initiative-System-for-Finding-Chan-Chang/88b33ed41881e88ce4f38180b28b2cd85629c98a\n",
      "3\n",
      "完成\n"
     ]
    }
   ],
   "source": [
    "url_domain ='https://www.semanticscholar.org'\n",
    "count=0\n",
    "\n",
    "#把APA視窗關掉\n",
    "driver.find_element_by_xpath(\"(.//*[normalize-space(text()) and normalize-space(.)='Chicago'])[1]/following::button[1]\").click()\n",
    "driver.get(target_url+\"navId=references\")\n",
    "time.sleep(3)\n",
    "\n",
    "while count<int(citation_number):\n",
    "    \n",
    "    citation = soup.find('div',id=\"citing-papers\")\n",
    "    citation = citation.find_all('div',class_=\"paper-citation\")\n",
    "    for post_citation in citation:\n",
    "        post_citation = post_citation.find('h2')\n",
    "        \n",
    "        try:\n",
    "            citation_href = url_domain + post_citation.find('a').get('href')\n",
    "        except:\n",
    "            citation_href=\"Without URL\"\n",
    "            \n",
    "        count = count+1\n",
    "        print(post_citation.text)\n",
    "        print(citation_href)\n",
    "        print(count)\n",
    "    try:\n",
    "        time.sleep(3)\n",
    "        driver.find_element_by_link_text(u\"›\").click()\n",
    "        time.sleep(3)\n",
    "        soup = BeautifulSoup(driver.page_source)\n",
    "    except:\n",
    "        print(\"完成\")\n"
   ]
  },
  {
   "cell_type": "code",
   "execution_count": 180,
   "metadata": {},
   "outputs": [
    {
     "name": "stdout",
     "output_type": "stream",
     "text": [
      "ClusCite: effective citation recommendation by information network-based clustering\n",
      "https://www.semanticscholar.org/paper/ClusCite%3A-effective-citation-recommendation-by-Ren-Liu/1d192839a51def7a8968dd8c7bd2adc9d5ad09fe\n",
      "1\n",
      "Recommending citations for academic papers\n",
      "https://www.semanticscholar.org/paper/Recommending-citations-for-academic-papers-Strohman-Croft/28a2166112318413647605a87d5baae5badf5c3a\n",
      "2\n",
      "Context-Based Collaborative Filtering for Citation Recommendation\n",
      "https://www.semanticscholar.org/paper/Context-Based-Collaborative-Filtering-for-Citation-Liu-Kong/0fb67f88fed7dc3592653a892eee2b8697806451\n",
      "3\n",
      "Citation Prediction in Heterogeneous Bibliographic Networks\n",
      "https://www.semanticscholar.org/paper/Citation-Prediction-in-Heterogeneous-Bibliographic-Yu-Gu/37baeefacac0997ea9ed19aac230519dc9d2492a\n",
      "4\n",
      "On the recommending of citations for research papers\n",
      "https://www.semanticscholar.org/paper/On-the-recommending-of-citations-for-research-McNee-Albert/01eecac575549b4143457b9874f9d48bcdbb2aac\n",
      "5\n",
      "An Analysis of Citation Recommender Systems: Beyond the Obvious\n",
      "https://www.semanticscholar.org/paper/An-Analysis-of-Citation-Recommender-Systems%3A-Beyond-Jia-Saule/d76f8a0b7f6b254ca902b3b4b620e2f6d17527d6\n",
      "6\n",
      "Scientific Article Recommendation by using Distributed Representations of Text and Graph\n",
      "https://www.semanticscholar.org/paper/Scientific-Article-Recommendation-by-using-of-Text-Gupta-Varma/068c327ba6aa386e554f40b105d25add2dad2242\n",
      "7\n",
      "A Query-oriented Approach for Relevance in Citation Networks\n",
      "https://www.semanticscholar.org/paper/A-Query-oriented-Approach-for-Relevance-in-Citation-Totti-Mitra/ce08e96c95e3137ac6eadedb9da4d393aab5bfeb\n",
      "8\n",
      "Weight Normalization: A Simple Reparameterization to Accelerate Training of Deep Neural Networks\n",
      "https://www.semanticscholar.org/paper/Weight-Normalization%3A-A-Simple-Reparameterization-Salimans-Kingma/0a2a4b2627121ac71b5953572f61cbbd290209c7\n",
      "9\n",
      "A Hybrid Generative/Discriminative Approach To Citation Prediction\n",
      "https://www.semanticscholar.org/paper/A-Hybrid-Generative%2FDiscriminative-Approach-To-Tanner-Charniak/2b3e6790b561e64b8c515067700adc61d7b95d99\n",
      "10\n",
      "A Neural Probabilistic Model for Context Based Citation Recommendation\n",
      "https://www.semanticscholar.org/paper/A-Neural-Probabilistic-Model-for-Context-Based-Huang-Wu/ce29db10680a9f29413319561f21134557907b9b\n",
      "11\n",
      "Deep Unordered Composition Rivals Syntactic Methods for Text Classification\n",
      "https://www.semanticscholar.org/paper/Deep-Unordered-Composition-Rivals-Syntactic-Methods-Iyyer-Manjunatha/0592c7442b1b0badb1e37d4d0a37dfc33d6aa29f\n",
      "12\n",
      "Fast and Accurate Deep Network Learning by Exponential Linear Units (ELUs)\n",
      "https://www.semanticscholar.org/paper/Fast-and-Accurate-Deep-Network-Learning-by-Linear-Clevert-Unterthiner/0b8759d61e93b809df16d9fe9010d2a2d7241c74\n",
      "13\n",
      "Network Representation Learning with Rich Text Information\n",
      "https://www.semanticscholar.org/paper/Network-Representation-Learning-with-Rich-Text-Yang-Liu/34b116980f233735c345fc57dfe35fe97a7a2ca7\n",
      "14\n",
      "Research-paper recommender systems: a literature survey\n",
      "https://www.semanticscholar.org/paper/Research-paper-recommender-systems%3A-a-literature-Beel-Gipp/357de87d5d1b61cde840dda9619a941fc81ba5a6\n",
      "15\n",
      "Citation-Enhanced Keyphrase Extraction from Research Papers: A Supervised Approach\n",
      "https://www.semanticscholar.org/paper/Citation-Enhanced-Keyphrase-Extraction-from-Papers%3A-Caragea-Bulgarov/05dec9ff0f48f45b09245ba0354748961f18ff77\n",
      "16\n",
      "Learning Fine-Grained Image Similarity with Deep Ranking\n",
      "https://www.semanticscholar.org/paper/Learning-Fine-Grained-Image-Similarity-with-Deep-Wang-Song/06ad6c93723fa1695fe01e0710ec6bfde2727f1b\n",
      "17\n",
      "The Stanford CoreNLP Natural Language Processing Toolkit\n",
      "https://www.semanticscholar.org/paper/The-Stanford-CoreNLP-Natural-Language-Processing-Manning-Surdeanu/e85a71c8cae795a1b2052a697d5e8182cc8c0655\n",
      "18\n",
      "Recommending citations: translating papers into references\n",
      "https://www.semanticscholar.org/paper/Recommending-citations%3A-translating-papers-into-Huang-Kataria/1deb57a6eb406ef1e15df7c74ee49123262a931e\n",
      "19\n",
      "Citation recommendation without author supervision\n",
      "https://www.semanticscholar.org/paper/Citation-recommendation-without-author-supervision-He-Kifer/124be068734cd32b58b3572cbd758a7b7d9f6bfb\n",
      "20\n",
      "Context-aware citation recommendation\n",
      "https://www.semanticscholar.org/paper/Context-aware-citation-recommendation-He-Pei/091931a01327acbe441be1a2c9f3ae8ba55aea60\n",
      "21\n",
      "HUMB: Automatic Key Term Extraction from Scientific Articles in GROBID\n",
      "https://www.semanticscholar.org/paper/HUMB%3A-Automatic-Key-Term-Extraction-from-Scientific-Lopez-Romary/2ce3a4cc3c4f1b512121f4f916bed1e311c9ab27\n",
      "22\n",
      "Large-scale machine learning with stochastic gradient descent\n",
      "Without URL\n",
      "23\n",
      "Utilizing Context in Generative Bayesian Models for Linked Corpus\n",
      "https://www.semanticscholar.org/paper/Utilizing-Context-in-Generative-Bayesian-Models-for-Kataria-Mitra/317c72f816169355154929a2d96df7d674e2a105\n",
      "24\n",
      "A Discriminative Approach to Topic-Based Citation Recommendation\n",
      "https://www.semanticscholar.org/paper/A-Discriminative-Approach-to-Topic-Based-Citation-Tang-Zhang/c154bf5b586cd797adc24231a3c71a3bc4a012fb\n",
      "25\n",
      "Joint latent topic models for text and citations\n",
      "https://www.semanticscholar.org/paper/Joint-latent-topic-models-for-text-and-citations-Nallapati-Ahmed/4bcc5805550c11dbde0a744eb963e5ddf5a5fa22\n",
      "26\n",
      "Signature Verification Using a Siamese Time Delay Neural Network\n",
      "https://www.semanticscholar.org/paper/Signature-Verification-Using-a-Siamese-Time-Delay-Bromley-Guyon/515a554d001a53ba58fe5f83c6fb73556b396191\n",
      "27\n",
      "完成\n"
     ]
    }
   ],
   "source": [
    "count=0\n",
    "driver.get(target_url+\"navId=similar-papers\")\n",
    "time.sleep(3)\n",
    "\n",
    "while count<int(references_number):\n",
    "    \n",
    "    references = soup.find('div',id=\"references\")\n",
    "    references = references.find_all('div',class_=\"paper-citation\")\n",
    "    for post_references in references:\n",
    "        post_references = post_references.find('h2')\n",
    "        \n",
    "        try:\n",
    "            references_href = url_domain + post_references.find('a').get('href')\n",
    "        except:\n",
    "            references_href=\"Without URL\"\n",
    "            \n",
    "        count = count+1\n",
    "        print(post_references.text)\n",
    "        print(references_href)\n",
    "        print(count)\n",
    "    try:\n",
    "        time.sleep(3)\n",
    "        driver.find_element_by_link_text(u\"›\").click()\n",
    "        time.sleep(3)\n",
    "        soup = BeautifulSoup(driver.page_source)\n",
    "    except:\n",
    "        print(\"完成\")"
   ]
  },
  {
   "cell_type": "code",
   "execution_count": 181,
   "metadata": {},
   "outputs": [
    {
     "name": "stdout",
     "output_type": "stream",
     "text": [
      "https://ai2-s2-public.s3.amazonaws.com/figures/2017-08-08/e9baba6cd76ea7f347462056cde699d6e6af0abd/2-Figure1-1.png\n",
      "https://ai2-s2-public.s3.amazonaws.com/figures/2017-08-08/e9baba6cd76ea7f347462056cde699d6e6af0abd/5-Table1-1.png\n",
      "https://ai2-s2-public.s3.amazonaws.com/figures/2017-08-08/e9baba6cd76ea7f347462056cde699d6e6af0abd/4-Figure2-1.png\n",
      "https://ai2-s2-public.s3.amazonaws.com/figures/2017-08-08/e9baba6cd76ea7f347462056cde699d6e6af0abd/6-Table2-1.png\n",
      "https://ai2-s2-public.s3.amazonaws.com/figures/2017-08-08/e9baba6cd76ea7f347462056cde699d6e6af0abd/6-Table3-1.png\n",
      "https://ai2-s2-public.s3.amazonaws.com/figures/2017-08-08/e9baba6cd76ea7f347462056cde699d6e6af0abd/7-Figure3-1.png\n",
      "https://ai2-s2-public.s3.amazonaws.com/figures/2017-08-08/e9baba6cd76ea7f347462056cde699d6e6af0abd/7-Table4-1.png\n",
      "https://ai2-s2-public.s3.amazonaws.com/figures/2017-08-08/e9baba6cd76ea7f347462056cde699d6e6af0abd/7-Figure4-1.png\n",
      "https://ai2-s2-public.s3.amazonaws.com/figures/2017-08-08/e9baba6cd76ea7f347462056cde699d6e6af0abd/13-Table6-1.png\n",
      "https://ai2-s2-public.s3.amazonaws.com/figures/2017-08-08/e9baba6cd76ea7f347462056cde699d6e6af0abd/13-Table7-1.png\n",
      "https://ai2-s2-public.s3.amazonaws.com/figures/2017-08-08/e9baba6cd76ea7f347462056cde699d6e6af0abd/14-Table8-1.png\n",
      "https://ai2-s2-public.s3.amazonaws.com/figures/2017-08-08/e9baba6cd76ea7f347462056cde699d6e6af0abd/14-Table9-1.png\n",
      "https://ai2-s2-public.s3.amazonaws.com/figures/2017-08-08/e9baba6cd76ea7f347462056cde699d6e6af0abd/14-Table10-1.png\n"
     ]
    }
   ],
   "source": [
    "all_image = soup.find('ul',class_=\"flex-row paper-detail-figures-list\")\n",
    "all_image = all_image.find_all('li')\n",
    "for post_image in all_image:\n",
    "    post_image = post_image.find('img')['src']\n",
    "    print(post_image)"
   ]
  },
  {
   "cell_type": "code",
   "execution_count": null,
   "metadata": {},
   "outputs": [],
   "source": []
  }
 ],
 "metadata": {
  "kernelspec": {
   "display_name": "Python 3",
   "language": "python",
   "name": "python3"
  },
  "language_info": {
   "codemirror_mode": {
    "name": "ipython",
    "version": 3
   },
   "file_extension": ".py",
   "mimetype": "text/x-python",
   "name": "python",
   "nbconvert_exporter": "python",
   "pygments_lexer": "ipython3",
   "version": "3.6.5"
  }
 },
 "nbformat": 4,
 "nbformat_minor": 2
}
